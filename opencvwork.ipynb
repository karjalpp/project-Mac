{
  "nbformat": 4,
  "nbformat_minor": 0,
  "metadata": {
    "colab": {
      "provenance": [],
      "authorship_tag": "ABX9TyMdQjn8/vgD2sF3lydjM3lb",
      "include_colab_link": true
    },
    "kernelspec": {
      "name": "python3",
      "display_name": "Python 3"
    },
    "language_info": {
      "name": "python"
    }
  },
  "cells": [
    {
      "cell_type": "markdown",
      "metadata": {
        "id": "view-in-github",
        "colab_type": "text"
      },
      "source": [
        "<a href=\"https://colab.research.google.com/github/karjalpp/project-Mac/blob/main/opencvwork.ipynb\" target=\"_parent\"><img src=\"https://colab.research.google.com/assets/colab-badge.svg\" alt=\"Open In Colab\"/></a>"
      ]
    },
    {
      "cell_type": "code",
      "execution_count": null,
      "metadata": {
        "id": "IkhrCLgVhaGE"
      },
      "outputs": [],
      "source": [
        "import cv2\n",
        "import numpy as np\n",
        "import pytesseract\n",
        "pytesseract.pytesseract.tesseract_cmd=r'C:\\Users\\703340227\\AppData\\Local\\Tesseract-OCR\\tesseract.exe'\n",
        "import matplotlib.pyplot as plt\n",
        "from PIL import Image\n"
      ]
    },
    {
      "cell_type": "code",
      "source": [
        "pip install pybind11"
      ],
      "metadata": {
        "id": "eC21weckh7Bu"
      },
      "execution_count": null,
      "outputs": []
    },
    {
      "cell_type": "code",
      "source": [
        "\n",
        "\n",
        "img=cv2.imread(\"bank cheque .png\")\n",
        "plt.imshow(img)"
      ],
      "metadata": {
        "id": "krYIGGtviOk6"
      },
      "execution_count": null,
      "outputs": []
    },
    {
      "cell_type": "code",
      "source": [
        "#img=cv2.imread(\"new_img.png\")\n",
        "width,height=250,50"
      ],
      "metadata": {
        "id": "lohSxVgjiD3z"
      },
      "execution_count": null,
      "outputs": []
    },
    {
      "cell_type": "code",
      "source": [
        "#img=cv2.imread(\"new_img.png\")\n",
        "width,height=250,50\n",
        "pts1=np.float32([[1586,511],[1786,511],[1586,571],[1786,571]])\n",
        "pts2=np.float32([[0,0],[width,0],[0,height],[width,height]])\n",
        "matrix=cv2.getPerspectiveTransform(pts1,pts2)\n",
        "date_output_img=cv2.warpPerspective(img,matrix,(width,height))\n",
        "#cv2.imshow(\"img\",img)\n",
        "#cv2.imshow(\"output\",output_img)\n",
        "#cv2.waitKey(0)\n",
        "plt.imshow(date_output_img)"
      ],
      "metadata": {
        "id": "ibWr7vWTiR-7"
      },
      "execution_count": null,
      "outputs": []
    },
    {
      "cell_type": "code",
      "source": [
        "a=pytesseract.image_to_string(date_output_img).split('\\n')\n",
        "a[0]"
      ],
      "metadata": {
        "id": "mDRnL5mPiYut"
      },
      "execution_count": null,
      "outputs": []
    },
    {
      "cell_type": "code",
      "source": [
        "#img=cv2.imread(\"new_img.png\")\n",
        "width,height= 350,55\n",
        "pts1=np.float32([[277,603],[1150,603],[277,816],[1150,816]])\n",
        "pts2=np.float32([[0,0],[width,0],[0,height],[width,height]])\n",
        "matrix=cv2.getPerspectiveTransform(pts1,pts2)\n",
        "address_output_img=cv2.warpPerspective(img,matrix,(width,height))\n",
        "#cv2.imshow(\"img\",img)\n",
        "#cv2.imshow(\"output\",output_img)\n",
        "#cv2.waitKey(0)\n",
        "plt.imshow(address_output_img)"
      ],
      "metadata": {
        "id": "w8ll5qkoijc5"
      },
      "execution_count": null,
      "outputs": []
    },
    {
      "cell_type": "code",
      "source": [
        "pytesseract.image_to_string(address_output_img).split('\\n')"
      ],
      "metadata": {
        "id": "jme767APipNq"
      },
      "execution_count": null,
      "outputs": []
    },
    {
      "cell_type": "code",
      "source": [
        "#img=cv2.imread(\"new_img.png\")\n",
        "width,height= 350,55\n",
        "pts1=np.float32([[2304,78],[2511,78],[2304,143],[2511,143]])\n",
        "pts2=np.float32([[0,0],[width,0],[0,height],[width,height]])\n",
        "matrix=cv2.getPerspectiveTransform(pts1,pts2)\n",
        "cheque_no_img=cv2.warpPerspective(img,matrix,(width,height))\n",
        "#cv2.imshow(\"img\",img)\n",
        "#cv2.imshow(\"output\",output_img)\n",
        "#cv2.waitKey(0)\n",
        "plt.imshow(cheque_no_img)"
      ],
      "metadata": {
        "id": "dOIrshMhitrg"
      },
      "execution_count": null,
      "outputs": []
    },
    {
      "cell_type": "code",
      "source": [
        "#img=cv2.imread(\"new_img.png\")\n",
        "width,height= 350,55\n",
        "pts1=np.float32([[2304,78],[2511,78],[2304,143],[2511,143]])\n",
        "pts2=np.float32([[0,0],[width,0],[0,height],[width,height]])\n",
        "matrix=cv2.getPerspectiveTransform(pts1,pts2)\n",
        "cheque_no_img=cv2.warpPerspective(img,matrix,(width,height))\n",
        "#cv2.imshow(\"img\",img)\n",
        "#cv2.imshow(\"output\",output_img)"
      ],
      "metadata": {
        "id": "B5nYsxXfi0WD"
      },
      "execution_count": null,
      "outputs": []
    },
    {
      "cell_type": "code",
      "source": [
        "#img=cv2.imread(\"new_img.png\")\n",
        "width,height= 350,55\n",
        "pts1=np.float32([[2304,78],[2511,78],[2304,143],[2511,143]])\n",
        "pts2=np.float32([[0,0],[width,0],[0,height],[width,height]])\n",
        "matrix=cv2.getPerspectiveTransform(pts1,pts2)\n",
        "cheque_no_img=cv2.warpPerspective(img,matrix,(width,height))\n",
        "#cv2.imshow(\"img\",img)\n",
        "#cv2.imshow(\"output\",output_img)\n",
        "#cv2.waitKey(0)\n",
        "plt.imshow(cheque_no_img)"
      ],
      "metadata": {
        "id": "oFnctE52jGfu"
      },
      "execution_count": null,
      "outputs": []
    },
    {
      "cell_type": "code",
      "source": [
        "#img=cv2.imread(\"new_img.png\")\n",
        "width,height= 250,30\n",
        "pts1=np.float32([[518,64],[658,64],[518,83],[658,83]])\n",
        "pts2=np.float32([[0,0],[width,0],[0,height],[width,height]])\n",
        "matrix=cv2.getPerspectiveTransform(pts1,pts2)\n",
        "date_output_img=cv2.warpPerspective(img,matrix,(width,height))\n",
        "#cv2.imshow(\"img\",img)\n",
        "#cv2.imshow(\"output\",output_img)\n",
        "#cv2.waitKey(0)\n",
        "plt.imshow(date_output_img)"
      ],
      "metadata": {
        "id": "9veckWtrjIcE"
      },
      "execution_count": null,
      "outputs": []
    },
    {
      "cell_type": "code",
      "source": [
        "date=pytesseract.image_to_string(date_output_img).split('\\n')\n",
        "date[0]"
      ],
      "metadata": {
        "id": "fy3Y-Gd3jrGw"
      },
      "execution_count": null,
      "outputs": []
    },
    {
      "cell_type": "code",
      "source": [
        "#img=cv2.imread(\"new_img.png\")\n",
        "width,height= 350,55\n",
        "pts1=np.float32([[47,11],[305,11],[47,43],[305,43]])\n",
        "pts2=np.float32([[0,0],[width,0],[0,height],[width,height]])\n",
        "matrix=cv2.getPerspectiveTransform(pts1,pts2)\n",
        "address_output_img=cv2.warpPerspective(img,matrix,(width,height))\n",
        "#cv2.imshow(\"img\",img)\n",
        "#cv2.imshow(\"output\",output_img)\n",
        "#cv2.waitKey(0)\n",
        "plt.imshow(address_output_img)"
      ],
      "metadata": {
        "id": "8No5LBhtjw1H"
      },
      "execution_count": null,
      "outputs": []
    },
    {
      "cell_type": "code",
      "source": [
        "a=pytesseract.image_to_string(address_output_img).split('\\n')\n",
        "a[0]"
      ],
      "metadata": {
        "id": "YfZ11Ohcj3Qc"
      },
      "execution_count": null,
      "outputs": []
    },
    {
      "cell_type": "code",
      "source": [
        "img=cv2.imread(\"new_img.png\")\n",
        "width,height= 350,55\n",
        "pts1=np.float32([[613,34],[706,34],[613,61],[706,61]])\n",
        "pts2=np.float32([[0,0],[width,0],[0,height],[width,height]])\n",
        "matrix=cv2.getPerspectiveTransform(pts1,pts2)\n",
        "cheque_no_img=cv2.warpPerspective(img,matrix,(width,height))\n",
        "#cv2.imshow(\"img\",img)\n",
        "#cv2.imshow(\"output\",output_img)\n",
        "#cv2.waitKey(0)\n",
        "plt.imshow(cheque_no_img)"
      ],
      "metadata": {
        "id": "L5ZAR7e1j8FG"
      },
      "execution_count": null,
      "outputs": []
    },
    {
      "cell_type": "code",
      "source": [
        "a=pytesseract.image_to_string(cheque_no_img).split('\\n')\n",
        "a[0]"
      ],
      "metadata": {
        "id": "JdwRLoNUj_7s"
      },
      "execution_count": null,
      "outputs": []
    },
    {
      "cell_type": "code",
      "source": [
        "width,height= 400,80\n",
        "pts1=np.float32([[695,145],[825,145],[695,182],[825,182]])\n",
        "pts2=np.float32([[0,0],[width,0],[0,height],[width,height]])\n",
        "matrix=cv2.getPerspectiveTransform(pts1,pts2)\n",
        "amount_output_img=cv2.warpPerspective(img,matrix,(width,height))\n",
        "#cv2.imshow(\"img\",img)\n",
        "#cv2.imshow(\"output\",output_img)\n",
        "#cv2.waitKey(0)\n",
        "plt.imshow(amount_output_img)"
      ],
      "metadata": {
        "id": "CZM6namEkEzp"
      },
      "execution_count": null,
      "outputs": []
    },
    {
      "cell_type": "code",
      "source": [
        "b=pytesseract.image_to_string(amount_output_img).split('\\n')\n",
        "b[2]"
      ],
      "metadata": {
        "id": "DZOR8qp-kKvI"
      },
      "execution_count": null,
      "outputs": []
    },
    {
      "cell_type": "code",
      "source": [
        "img=cv2.imread(\"united states tresury.png\")\n",
        "plt.imshow(img)\n"
      ],
      "metadata": {
        "id": "7tRrKynMkPBw"
      },
      "execution_count": null,
      "outputs": []
    },
    {
      "cell_type": "code",
      "source": [
        "#img=cv2.imread(\"united states tresury\")\n",
        "width,height= 350,55\n",
        "pts1=np.float32([[173,109],[351,109],[173,156],[351,156]])\n",
        "pts2=np.float32([[0,0],[width,0],[0,height],[width,height]])\n",
        "matrix=cv2.getPerspectiveTransform(pts1,pts2)\n",
        "address_output_img=cv2.warpPerspective(img,matrix,(width,height))\n",
        "#cv2.imshow(\"img\",img)\n",
        "#cv2.imshow(\"output\",output_img)\n",
        "#cv2.waitKey(0)\n",
        "plt.imshow(address_output_img)"
      ],
      "metadata": {
        "id": "pXLzrD0JkU6L"
      },
      "execution_count": null,
      "outputs": []
    },
    {
      "cell_type": "code",
      "source": [
        "import cv2\n",
        "inverted_image = cv2.bitwise_not(address_output_img)\n",
        "plt.imshow(inverted_image)"
      ],
      "metadata": {
        "id": "Z44WNB9gkbCq"
      },
      "execution_count": null,
      "outputs": []
    },
    {
      "cell_type": "code",
      "source": [
        "def grayscale(address_output_img):\n",
        "    return cv2.cvtColor(address_output_img, cv2.COLOR_BGR2GRAY)"
      ],
      "metadata": {
        "id": "apnpkKzrkg5_"
      },
      "execution_count": null,
      "outputs": []
    },
    {
      "cell_type": "code",
      "source": [
        "gray_image = grayscale(address_output_img)\n",
        "plt.imshow( gray_image)"
      ],
      "metadata": {
        "id": "HP_ePyr4klRZ"
      },
      "execution_count": null,
      "outputs": []
    },
    {
      "cell_type": "code",
      "source": [
        "thresh, im_bw = cv2.threshold(gray_image, 210, 230, cv2.THRESH_BINARY)\n",
        "plt.imshow( im_bw)"
      ],
      "metadata": {
        "id": "hUHVWA_RkoI0"
      },
      "execution_count": null,
      "outputs": []
    },
    {
      "cell_type": "code",
      "source": [
        "#img=cv2.imread(\"united states tresury\")\n",
        "width,height= 350,55\n",
        "pts1=np.float32([[173,109],[351,109],[173,156],[351,156]])\n",
        "pts2=np.float32([[0,0],[width,0],[0,height],[width,height]])\n",
        "matrix=cv2.getPerspectiveTransform(pts1,pts2)\n",
        "address_output_img=cv2.warpPerspective(img,matrix,(width,height))\n",
        "#cv2.imshow(\"img\",img)\n",
        "#cv2.imshow(\"output\",output_img)\n",
        "#cv2.waitKey(0)\n",
        "plt.imshow(address_output_img)"
      ],
      "metadata": {
        "id": "2uoDwEsakuUk"
      },
      "execution_count": null,
      "outputs": []
    },
    {
      "cell_type": "code",
      "source": [
        "import cv2\n",
        "inverted_image = cv2.bitwise_not(address_output_img)\n",
        "plt.imshow(inverted_image)"
      ],
      "metadata": {
        "id": "LWVRuQASk8NC"
      },
      "execution_count": null,
      "outputs": []
    },
    {
      "cell_type": "code",
      "source": [
        "def grayscale(address_output_img):\n",
        "    return cv2.cvtColor(address_output_img, cv2.COLOR_BGR2GRAY)"
      ],
      "metadata": {
        "id": "-QeJT1xilD8F"
      },
      "execution_count": null,
      "outputs": []
    },
    {
      "cell_type": "code",
      "source": [
        "def noise_removal(address_output_img):\n",
        "    import numpy as np\n",
        "    a=np.ones((1,1),np.uint8)\n",
        "    image=cv2.dilate(address_output_img,a,iterations=1)\n",
        "    a=np.ones((1,1),np.uint8)\n",
        "    image=cv2.erode(image,a,iterations=1)\n",
        "    image=cv2.morphologyEx(image,cv2.MORPH_CLOSE,a)\n",
        "    image=cv2.medianBlur(image,3)\n",
        "    return(address_output_img)\n"
      ],
      "metadata": {
        "id": "QMyKT4i5lK1y"
      },
      "execution_count": null,
      "outputs": []
    },
    {
      "cell_type": "code",
      "source": [
        "no_noise=noise_removal(im_bw)\n",
        "plt.imshow(no_noise)"
      ],
      "metadata": {
        "id": "kR8ynUqelMVH"
      },
      "execution_count": null,
      "outputs": []
    },
    {
      "cell_type": "code",
      "source": [
        "def thin_font(address_output_img):\n",
        "     import numpy as np\n",
        "     image=cv2.bitwise_not(address_output_img)\n",
        "     a=np.ones((32,2),np.uint8)\n",
        "     image=cv2.erode(image,a,iterations=1)"
      ],
      "metadata": {
        "id": "_7A_PTo0lQUn"
      },
      "execution_count": null,
      "outputs": []
    },
    {
      "cell_type": "code",
      "source": [
        "eroded_image=thin_font(no_noise)\n",
        "plt.imshow(eroded_image)"
      ],
      "metadata": {
        "id": "Xg6PHirrlb6i"
      },
      "execution_count": null,
      "outputs": []
    },
    {
      "cell_type": "code",
      "source": [
        "img=cv2.imread(\"new_img.png\")\n",
        "width,height= 300,50\n",
        "pts1=np.float32([[528,48],[650,48],[528,75],[650,75]])\n",
        "pts2=np.float32([[0,0],[width,0],[0,height],[width,height]])\n",
        "matrix=cv2.getPerspectiveTransform(pts1,pts2)\n",
        "cheque_no_img=cv2.warpPerspective(img,matrix,(width,height))\n",
        "#cv2.imshow(\"img\",img)\n",
        "#cv2.imshow(\"output\",output_img)\n",
        "#cv2.waitKey(0)\n",
        "plt.imshow(cheque_no_img)"
      ],
      "metadata": {
        "id": "EX7lq6I6lgQT"
      },
      "execution_count": null,
      "outputs": []
    },
    {
      "cell_type": "code",
      "source": [
        "width,height= 400,80\n",
        "pts1=np.float32([[609,124],[664,124],[609,153],[664,153]])\n",
        "pts2=np.float32([[0,0],[width,0],[0,height],[width,height]])\n",
        "matrix=cv2.getPerspectiveTransform(pts1,pts2)\n",
        "amount_output_img=cv2.warpPerspective(img,matrix,(width,height))\n",
        "#cv2.imshow(\"img\",img)\n",
        "#cv2.imshow(\"output\",output_img)\n",
        "#cv2.waitKey(0)\n",
        "plt.imshow(amount_output_img)"
      ],
      "metadata": {
        "id": "4cHmTFJolmqU"
      },
      "execution_count": null,
      "outputs": []
    },
    {
      "cell_type": "code",
      "source": [
        "img=cv2.imread(\"united states tresury1.png\")\n",
        "plt.imshow(img)"
      ],
      "metadata": {
        "id": "cXnUjefWlnaT"
      },
      "execution_count": null,
      "outputs": []
    },
    {
      "cell_type": "code",
      "source": [
        "#img=cv2.imread(\"new_img.png\")\n",
        "width,height= 350,55\n",
        "pts1=np.float32([[178,121],[435,121],[178,179],[435,179]])\n",
        "pts2=np.float32([[0,0],[width,0],[0,height],[width,height]])\n",
        "matrix=cv2.getPerspectiveTransform(pts1,pts2)\n",
        "address_output_img=cv2.warpPerspective(img,matrix,(width,height))\n",
        "#cv2.imshow(\"img\",img)\n",
        "#cv2.imshow(\"output\",output_img)\n",
        "#cv2.waitKey(0)\n",
        "plt.imshow(address_output_img)"
      ],
      "metadata": {
        "id": "WwFxpmyhltkz"
      },
      "execution_count": null,
      "outputs": []
    },
    {
      "cell_type": "code",
      "source": [
        "import cv2\n",
        "inverted_image = cv2.bitwise_not(address_output_img)\n",
        "plt.imshow(inverted_image)"
      ],
      "metadata": {
        "id": "X1o7XI_4lxom"
      },
      "execution_count": null,
      "outputs": []
    },
    {
      "cell_type": "code",
      "source": [
        "#img=cv2.imread(\"new_img.png\")\n",
        "width,height= 350,55\n",
        "pts1=np.float32([[525,66],[653,66],[525,103],[652,103]])\n",
        "pts2=np.float32([[0,0],[width,0],[0,height],[width,height]])\n",
        "matrix=cv2.getPerspectiveTransform(pts1,pts2)\n",
        "cheque_no_img=cv2.warpPerspective(img,matrix,(width,height))\n",
        "#cv2.imshow(\"img\",img)\n",
        "#cv2.imshow(\"output\",output_img)\n",
        "#cv2.waitKey(0)\n",
        "plt.imshow(cheque_no_img)"
      ],
      "metadata": {
        "id": "GNqGv_apl2qI"
      },
      "execution_count": null,
      "outputs": []
    },
    {
      "cell_type": "code",
      "source": [
        "width,height= 400,80\n",
        "pts1=np.float32([[601,147],[667,147],[601,169],[667,169]])\n",
        "pts2=np.float32([[0,0],[width,0],[0,height],[width,height]])\n",
        "matrix=cv2.getPerspectiveTransform(pts1,pts2)\n",
        "amount_output_img=cv2.warpPerspective(img,matrix,(width,height))\n",
        "#cv2.imshow(\"img\",img)\n",
        "#cv2.imshow(\"output\",output_img)\n",
        "#cv2.waitKey(0)"
      ],
      "metadata": {
        "id": "Jh8HIk54l6qq"
      },
      "execution_count": null,
      "outputs": []
    },
    {
      "cell_type": "code",
      "source": [
        "img=cv2.imread(\"4th judicial district courts.png\")\n",
        "plt.imshow(img)"
      ],
      "metadata": {
        "id": "YlrJr8wwmAdO"
      },
      "execution_count": null,
      "outputs": []
    },
    {
      "cell_type": "code",
      "source": [
        "#img=cv2.imread(\"new_img.png\")\n",
        "width,height= 350,55\n",
        "pts1=np.float32([[589,11],[665,11],[589,29],[665,29]])\n",
        "pts2=np.float32([[0,0],[width,0],[0,height],[width,height]])\n",
        "matrix=cv2.getPerspectiveTransform(pts1,pts2)\n",
        "cheque_img=cv2.warpPerspective(img,matrix,(width,height))"
      ],
      "metadata": {
        "id": "XBF3VM-lmStT"
      },
      "execution_count": null,
      "outputs": []
    },
    {
      "cell_type": "code",
      "source": [
        "width,height= 400,80\n",
        "pts1=np.float32([[551,102],[641,102],[551,116],[641,116]])\n",
        "pts2=np.float32([[0,0],[width,0],[0,height],[width,height]])\n",
        "matrix=cv2.getPerspectiveTransform(pts1,pts2)\n",
        "date_output_img=cv2.warpPerspective(img,matrix,(width,height))\n",
        "#cv2.imshow(\"img\",img)\n",
        "#cv2.imshow(\"output\",output_img)"
      ],
      "metadata": {
        "id": "YZubCTOpmTn5"
      },
      "execution_count": null,
      "outputs": []
    },
    {
      "cell_type": "code",
      "source": [
        "img=cv2.imread(\"judicial district court.png\")\n",
        "plt.imshow(img)"
      ],
      "metadata": {
        "id": "JbTjvFyqmYEc"
      },
      "execution_count": null,
      "outputs": []
    },
    {
      "cell_type": "code",
      "source": [
        "#img=cv2.imread(\"new_img.png\")\n",
        "width,height= 350,55\n",
        "pts1=np.float32([[589,11],[665,11],[589,29],[665,29]])\n",
        "pts2=np.float32([[0,0],[width,0],[0,height],[width,height]])\n",
        "matrix=cv2.getPerspectiveTransform(pts1,pts2)\n",
        "cheque_img=cv2.warpPerspective(img,matrix,(width,height))\n",
        "#cv2.imshow(\"img\",img)\n",
        "#cv2.imsho"
      ],
      "metadata": {
        "id": "hmMDZlvomc-0"
      },
      "execution_count": null,
      "outputs": []
    },
    {
      "cell_type": "code",
      "source": [
        "width,height= 400,80\n",
        "pts1=np.float32([[551,102],[641,102],[551,116],[641,116]])\n",
        "pts2=np.float32([[0,0],[width,0],[0,height],[width,height]])\n",
        "matrix=cv2.getPerspectiveTransform(pts1,pts2)\n",
        "date_output_img=cv2.warpPerspective(img,matrix,(width,height))\n",
        "#cv2.imshow(\"img\",img)\n",
        "#cv2.imshow(\"output\",output_img)\n",
        "#cv2.waitKey(0)\n",
        "plt.imshow(date_output_img)"
      ],
      "metadata": {
        "id": "yu_zxfeDmlHL"
      },
      "execution_count": null,
      "outputs": []
    },
    {
      "cell_type": "code",
      "source": [
        "img=cv2.imread(\"judicial district court.png\")\n",
        "plt.imshow(img)"
      ],
      "metadata": {
        "id": "v26KBcmZmq4I"
      },
      "execution_count": null,
      "outputs": []
    },
    {
      "cell_type": "code",
      "source": [
        "#img=cv2.imread(\"new_img.png\")\n",
        "width,height= 350,55\n",
        "pts1=np.float32([[40,157],[198,157],[40,238],[201,238]])\n",
        "pts2=np.float32([[0,0],[width,0],[0,height],[width,height]])\n",
        "matrix=cv2.getPerspectiveTransform(pts1,pts2)\n",
        "address_output_img=cv2.warpPerspective(img,matrix,(width,height))\n",
        "#cv2.imshow(\"img\",img)\n",
        "#cv2.imshow(\"output\",output_img)\n",
        "#cv2.waitKey(0)\n",
        "plt.imshow(address_output_img)"
      ],
      "metadata": {
        "id": "WEZ3HVT-m0NI"
      },
      "execution_count": null,
      "outputs": []
    },
    {
      "cell_type": "code",
      "source": [],
      "metadata": {
        "id": "tCFPr6u3kyib"
      },
      "execution_count": null,
      "outputs": []
    }
  ]
}